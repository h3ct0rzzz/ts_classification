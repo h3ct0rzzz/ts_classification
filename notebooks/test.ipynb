{
 "cells": [
  {
   "cell_type": "code",
   "execution_count": 19,
   "metadata": {},
   "outputs": [],
   "source": [
    "import pandas as pd\n",
    "import numpy as np\n",
    "import matplotlib.pyplot as plt\n",
    "import seaborn as sns\n",
    "import warnings\n",
    "from typing import List\n",
    "\n",
    "warnings.filterwarnings(\"ignore\")\n",
    "%matplotlib inline\n",
    "\n",
    "TRAIN_FILE = '../data/train.parquet'\n",
    "TEST_FILE = '../data/test.parquet'\n",
    "SAMPLE_SUBMISSION = '../data/sample_submission.csv'\n"
   ]
  },
  {
   "cell_type": "code",
   "execution_count": 52,
   "metadata": {},
   "outputs": [],
   "source": [
    "def set_display() -> None:\n",
    "    \"\"\"Function sets display options for charts and pd.DataFrames.\"\"\"\n",
    "    plt.style.use('fivethirtyeight')\n",
    "    plt.rcParams['figure.figsize'] = 12, 8\n",
    "    plt.rcParams.update({'font.size': 14})\n",
    "    pd.set_option('display.max_columns', None)\n",
    "    pd.set_option('display.max_rows', None)\n",
    "    pd.options.display.float_format = '{:.4f}'.format\n",
    "\n",
    "\n",
    "def dataset_info(df: pd.DataFrame):\n",
    "    print(df.info())\n",
    "    \n",
    "    print(\"\\nПропуски в полях:\")\n",
    "    print(df.isnull().sum())\n",
    "\n",
    "    missing_values = df['values'].apply(lambda x: any(pd.isnull(v) for v in x))\n",
    "    print(f\"Количество строк с пропусками в 'values': {missing_values.sum()}\")\n",
    "\n",
    "\n",
    "    "
   ]
  },
  {
   "cell_type": "code",
   "execution_count": 11,
   "metadata": {},
   "outputs": [],
   "source": [
    "train_df = pd.read_parquet(TRAIN_FILE, engine='auto')\n",
    "test_df = pd.read_parquet(TEST_FILE, engine='auto')\n",
    "sample_submission = pd.read_csv(SAMPLE_SUBMISSION)"
   ]
  },
  {
   "cell_type": "code",
   "execution_count": 28,
   "metadata": {},
   "outputs": [
    {
     "data": {
      "text/html": [
       "<div>\n",
       "<style scoped>\n",
       "    .dataframe tbody tr th:only-of-type {\n",
       "        vertical-align: middle;\n",
       "    }\n",
       "\n",
       "    .dataframe tbody tr th {\n",
       "        vertical-align: top;\n",
       "    }\n",
       "\n",
       "    .dataframe thead th {\n",
       "        text-align: right;\n",
       "    }\n",
       "</style>\n",
       "<table border=\"1\" class=\"dataframe\">\n",
       "  <thead>\n",
       "    <tr style=\"text-align: right;\">\n",
       "      <th></th>\n",
       "      <th>id</th>\n",
       "      <th>dates</th>\n",
       "      <th>values</th>\n",
       "      <th>label</th>\n",
       "    </tr>\n",
       "  </thead>\n",
       "  <tbody>\n",
       "    <tr>\n",
       "      <th>0</th>\n",
       "      <td>19114</td>\n",
       "      <td>[2016-01-01, 2016-02-01, 2016-03-01, 2016-04-0...</td>\n",
       "      <td>[-1.86, 0.79, 1.4, 0.15, 0.0, -1.24, -1.46, 3....</td>\n",
       "      <td>0.0</td>\n",
       "    </tr>\n",
       "    <tr>\n",
       "      <th>1</th>\n",
       "      <td>22769</td>\n",
       "      <td>[2016-05-01, 2016-06-01, 2016-07-01, 2016-08-0...</td>\n",
       "      <td>[-1.04, -3.48, 0.05, -0.13, -0.01, 0.03, 0.27,...</td>\n",
       "      <td>1.0</td>\n",
       "    </tr>\n",
       "    <tr>\n",
       "      <th>2</th>\n",
       "      <td>76935</td>\n",
       "      <td>[2017-03-01, 2017-04-01, 2017-05-01, 2017-06-0...</td>\n",
       "      <td>[0.28, 0.63, 0.06, 0.96, -1.4, -0.3, 1.62, 1.1...</td>\n",
       "      <td>0.0</td>\n",
       "    </tr>\n",
       "    <tr>\n",
       "      <th>3</th>\n",
       "      <td>66297</td>\n",
       "      <td>[2016-01-01, 2016-02-01, 2016-03-01, 2016-04-0...</td>\n",
       "      <td>[-0.33, 0.58, 1.1, -0.56, -0.95, -0.61, -0.7, ...</td>\n",
       "      <td>0.0</td>\n",
       "    </tr>\n",
       "    <tr>\n",
       "      <th>4</th>\n",
       "      <td>2191</td>\n",
       "      <td>[2016-01-01, 2016-02-01, 2016-03-01, 2016-04-0...</td>\n",
       "      <td>[1.31, 0.5, -0.54, 0.95, 0.65, 0.83, -1.55, -0...</td>\n",
       "      <td>0.0</td>\n",
       "    </tr>\n",
       "    <tr>\n",
       "      <th>...</th>\n",
       "      <td>...</td>\n",
       "      <td>...</td>\n",
       "      <td>...</td>\n",
       "      <td>...</td>\n",
       "    </tr>\n",
       "    <tr>\n",
       "      <th>79995</th>\n",
       "      <td>71474</td>\n",
       "      <td>[2018-10-01, 2018-11-01, 2018-12-01, 2019-01-0...</td>\n",
       "      <td>[-0.15, -1.13, -0.87, 0.49, 0.87, 1.67, 1.91, ...</td>\n",
       "      <td>0.0</td>\n",
       "    </tr>\n",
       "    <tr>\n",
       "      <th>79996</th>\n",
       "      <td>36908</td>\n",
       "      <td>[2016-07-01, 2016-08-01, 2016-09-01, 2016-10-0...</td>\n",
       "      <td>[-0.35, -1.31, 0.11, 1.46, 1.28, 1.12, 1.78, 1...</td>\n",
       "      <td>1.0</td>\n",
       "    </tr>\n",
       "    <tr>\n",
       "      <th>79997</th>\n",
       "      <td>63517</td>\n",
       "      <td>[2016-03-01, 2016-04-01, 2016-05-01, 2016-06-0...</td>\n",
       "      <td>[-0.78, -2.27, -1.85, -0.67, -1.2, -2.02, 0.12...</td>\n",
       "      <td>0.0</td>\n",
       "    </tr>\n",
       "    <tr>\n",
       "      <th>79998</th>\n",
       "      <td>94731</td>\n",
       "      <td>[2016-02-01, 2016-03-01, 2016-04-01, 2016-05-0...</td>\n",
       "      <td>[-2.29, -2.85, 0.92, -0.83, -1.75, -1.81, -2.2...</td>\n",
       "      <td>0.0</td>\n",
       "    </tr>\n",
       "    <tr>\n",
       "      <th>79999</th>\n",
       "      <td>98870</td>\n",
       "      <td>[2016-01-01, 2016-02-01, 2016-03-01, 2016-04-0...</td>\n",
       "      <td>[0.12, -0.8, 1.62, 0.11, -0.38, -0.86, -0.85, ...</td>\n",
       "      <td>1.0</td>\n",
       "    </tr>\n",
       "  </tbody>\n",
       "</table>\n",
       "<p>80000 rows × 4 columns</p>\n",
       "</div>"
      ],
      "text/plain": [
       "          id                                              dates  \\\n",
       "0      19114  [2016-01-01, 2016-02-01, 2016-03-01, 2016-04-0...   \n",
       "1      22769  [2016-05-01, 2016-06-01, 2016-07-01, 2016-08-0...   \n",
       "2      76935  [2017-03-01, 2017-04-01, 2017-05-01, 2017-06-0...   \n",
       "3      66297  [2016-01-01, 2016-02-01, 2016-03-01, 2016-04-0...   \n",
       "4       2191  [2016-01-01, 2016-02-01, 2016-03-01, 2016-04-0...   \n",
       "...      ...                                                ...   \n",
       "79995  71474  [2018-10-01, 2018-11-01, 2018-12-01, 2019-01-0...   \n",
       "79996  36908  [2016-07-01, 2016-08-01, 2016-09-01, 2016-10-0...   \n",
       "79997  63517  [2016-03-01, 2016-04-01, 2016-05-01, 2016-06-0...   \n",
       "79998  94731  [2016-02-01, 2016-03-01, 2016-04-01, 2016-05-0...   \n",
       "79999  98870  [2016-01-01, 2016-02-01, 2016-03-01, 2016-04-0...   \n",
       "\n",
       "                                                  values  label  \n",
       "0      [-1.86, 0.79, 1.4, 0.15, 0.0, -1.24, -1.46, 3....    0.0  \n",
       "1      [-1.04, -3.48, 0.05, -0.13, -0.01, 0.03, 0.27,...    1.0  \n",
       "2      [0.28, 0.63, 0.06, 0.96, -1.4, -0.3, 1.62, 1.1...    0.0  \n",
       "3      [-0.33, 0.58, 1.1, -0.56, -0.95, -0.61, -0.7, ...    0.0  \n",
       "4      [1.31, 0.5, -0.54, 0.95, 0.65, 0.83, -1.55, -0...    0.0  \n",
       "...                                                  ...    ...  \n",
       "79995  [-0.15, -1.13, -0.87, 0.49, 0.87, 1.67, 1.91, ...    0.0  \n",
       "79996  [-0.35, -1.31, 0.11, 1.46, 1.28, 1.12, 1.78, 1...    1.0  \n",
       "79997  [-0.78, -2.27, -1.85, -0.67, -1.2, -2.02, 0.12...    0.0  \n",
       "79998  [-2.29, -2.85, 0.92, -0.83, -1.75, -1.81, -2.2...    0.0  \n",
       "79999  [0.12, -0.8, 1.62, 0.11, -0.38, -0.86, -0.85, ...    1.0  \n",
       "\n",
       "[80000 rows x 4 columns]"
      ]
     },
     "execution_count": 28,
     "metadata": {},
     "output_type": "execute_result"
    }
   ],
   "source": [
    "train_df"
   ]
  },
  {
   "cell_type": "code",
   "execution_count": 46,
   "metadata": {},
   "outputs": [
    {
     "name": "stdout",
     "output_type": "stream",
     "text": [
      "<class 'pandas.core.frame.DataFrame'>\n",
      "Index: 79912 entries, 0 to 79999\n",
      "Data columns (total 4 columns):\n",
      " #   Column  Non-Null Count  Dtype  \n",
      "---  ------  --------------  -----  \n",
      " 0   id      79912 non-null  int64  \n",
      " 1   dates   79912 non-null  object \n",
      " 2   values  79912 non-null  object \n",
      " 3   label   79912 non-null  float64\n",
      "dtypes: float64(1), int64(1), object(2)\n",
      "memory usage: 3.0+ MB\n",
      "None\n",
      "\n",
      "Пропуски в полях:\n",
      "id        0\n",
      "dates     0\n",
      "values    0\n",
      "label     0\n",
      "dtype: int64\n",
      "Количество строк с пропусками в 'values': 0\n"
     ]
    }
   ],
   "source": [
    "dataset_info(train_df)"
   ]
  },
  {
   "cell_type": "code",
   "execution_count": 47,
   "metadata": {},
   "outputs": [
    {
     "name": "stdout",
     "output_type": "stream",
     "text": [
      "<class 'pandas.core.frame.DataFrame'>\n",
      "Index: 19979 entries, 0 to 19999\n",
      "Data columns (total 3 columns):\n",
      " #   Column  Non-Null Count  Dtype \n",
      "---  ------  --------------  ----- \n",
      " 0   id      19979 non-null  int64 \n",
      " 1   dates   19979 non-null  object\n",
      " 2   values  19979 non-null  object\n",
      "dtypes: int64(1), object(2)\n",
      "memory usage: 624.3+ KB\n",
      "None\n",
      "\n",
      "Пропуски в полях:\n",
      "id        0\n",
      "dates     0\n",
      "values    0\n",
      "dtype: int64\n",
      "Количество строк с пропусками в 'values': 0\n"
     ]
    }
   ],
   "source": [
    "dataset_info(test_df)"
   ]
  },
  {
   "cell_type": "code",
   "execution_count": 50,
   "metadata": {},
   "outputs": [
    {
     "name": "stdout",
     "output_type": "stream",
     "text": [
      "Label 1: 22,127 (27.7%)\n",
      "Label 0: 57,785 (72.3%)\n",
      "Total: 79,912\n"
     ]
    },
    {
     "data": {
      "image/png": "[encoded data removed]",
      "text/plain": [
       "<Figure size 1200x800 with 1 Axes>"
      ]
     },
     "metadata": {},
     "output_type": "display_data"
    }
   ],
   "source": [
    "label_1_count = len(train_df[train_df['label'] == 1])\n",
    "label_0_count = len(train_df[train_df['label'] == 0])\n",
    "total_count = len(train_df)\n",
    "\n",
    "print(f\"Label 1: {label_1_count:,} ({label_1_count/total_count:.1%})\")\n",
    "print(f\"Label 0: {label_0_count:,} ({label_0_count/total_count:.1%})\")\n",
    "print(f\"Total: {total_count:,}\")\n",
    "\n",
    "sns.set_style(\"darkgrid\")\n",
    "plt.figure(figsize=(12, 8))\n",
    "\n",
    "colors = sns.color_palette(\"husl\", 2)\n",
    "\n",
    "ax = sns.barplot(x=train_df['label'].value_counts().index, \n",
    "                 y=train_df['label'].value_counts().values, \n",
    "                 palette=colors)\n",
    "\n",
    "plt.title('Распределение классов в данных', fontsize=20, fontweight='bold')\n",
    "plt.xlabel('Классы', fontsize=16)\n",
    "plt.ylabel('Количество', fontsize=16)\n",
    "\n",
    "for i, v in enumerate(train_df['label'].value_counts().values):\n",
    "    ax.text(i, v + 0.5, str(v), ha='center', va='bottom', fontsize=14, fontweight='bold')\n",
    "\n",
    "plt.tight_layout()\n",
    "\n",
    "ax.grid(True, linestyle='--', alpha=0.7)\n",
    "\n",
    "plt.xticks(fontsize=14)\n",
    "plt.yticks(fontsize=14)\n",
    "\n",
    "ax.set_facecolor('#f0f0f0')\n",
    "\n",
    "plt.show()"
   ]
  },
  {
   "cell_type": "code",
   "execution_count": null,
   "metadata": {},
   "outputs": [],
   "source": []
  }
 ],
 "metadata": {
  "kernelspec": {
   "display_name": "base",
   "language": "python",
   "name": "python3"
  },
  "language_info": {
   "codemirror_mode": {
    "name": "ipython",
    "version": 3
   },
   "file_extension": ".py",
   "mimetype": "text/x-python",
   "name": "python",
   "nbconvert_exporter": "python",
   "pygments_lexer": "ipython3",
   "version": "3.11.7"
  }
 },
 "nbformat": 4,
 "nbformat_minor": 2
}
